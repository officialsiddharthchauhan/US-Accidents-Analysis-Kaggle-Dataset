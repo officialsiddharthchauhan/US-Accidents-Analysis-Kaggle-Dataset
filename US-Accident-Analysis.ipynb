{
  "nbformat": 4,
  "nbformat_minor": 0,
  "metadata": {
    "colab": {
      "name": "Untitled4.ipynb",
      "provenance": [],
      "authorship_tag": "ABX9TyPQgRoJV3Os0eIS3aDoZqPd",
      "include_colab_link": true
    },
    "kernelspec": {
      "name": "python3",
      "display_name": "Python 3"
    }
  },
  "cells": [
    {
      "cell_type": "markdown",
      "metadata": {
        "id": "view-in-github",
        "colab_type": "text"
      },
      "source": [
        "<a href=\"https://colab.research.google.com/github/officialsiddharthchauhan/US-Accidents-Analysis-Kaggle-Dataset/blob/master/US-Accident-Analysis.ipynb\" target=\"_parent\"><img src=\"https://colab.research.google.com/assets/colab-badge.svg\" alt=\"Open In Colab\"/></a>"
      ]
    },
    {
      "cell_type": "code",
      "metadata": {
        "id": "ERu5a8xyjZr7",
        "colab_type": "code",
        "colab": {}
      },
      "source": [
        "# This Python 3 environment comes with many helpful analytics libraries installed\n",
        "# It is defined by the kaggle/python docker image: https://github.com/kaggle/docker-python\n",
        "# For example, here's several helpful packages to load in \n",
        "\n",
        "import numpy as np # linear algebra\n",
        "import pandas as pd # data processing, CSV file I/O (e.g. pd.read_csv)\n",
        "\n",
        "# Input data files are available in the \"../input/\" directory.\n",
        "# For example, running this (by clicking run or pressing Shift+Enter) will list all files under the input directory\n",
        "\n",
        "import os\n",
        "for dirname, _, filenames in os.walk('/kaggle/input'):\n",
        "    for filename in filenames:\n",
        "        print(os.path.join(dirname, filename))\n",
        "\n",
        "# Any results you write to the current directory are saved as output."
      ],
      "execution_count": 0,
      "outputs": []
    },
    {
      "cell_type": "markdown",
      "metadata": {
        "id": "HMwCu-3ajmUV",
        "colab_type": "text"
      },
      "source": [
        "**/kaggle/input/us-accidents/US_Accidents_Dec19.csv**"
      ]
    },
    {
      "cell_type": "code",
      "metadata": {
        "id": "AQkzmV_sj5k1",
        "colab_type": "code",
        "colab": {}
      },
      "source": [
        "df=pd.read_csv('../input/us-accidents/US_Accidents_Dec19.csv')"
      ],
      "execution_count": 0,
      "outputs": []
    },
    {
      "cell_type": "code",
      "metadata": {
        "id": "S5_z1mr7kFQ1",
        "colab_type": "code",
        "colab": {}
      },
      "source": [
        "print('Rows',df.shape[0])\n",
        "print('Number of columns',df.shape[1])\n",
        "print('Features or Column names',df.columns.tolist())\n",
        "print('\\n Missing values :',df.isnull().values.sum())\n",
        "print('\\n Unique values : \\n',df.nunique())"
      ],
      "execution_count": 0,
      "outputs": []
    },
    {
      "cell_type": "markdown",
      "metadata": {
        "id": "nughoodCkIXL",
        "colab_type": "text"
      },
      "source": [
        "**Rows 2974335\n",
        "Number of columns 49\n",
        "Features or Column names ['ID', 'Source', 'TMC', 'Severity', 'Start_Time', 'End_Time', 'Start_Lat', 'Start_Lng', 'End_Lat', 'End_Lng', 'Distance(mi)', 'Description', 'Number', 'Street', 'Side', 'City', 'County', 'State', 'Zipcode', 'Country', 'Timezone', 'Airport_Code', 'Weather_Timestamp', 'Temperature(F)', 'Wind_Chill(F)', 'Humidity(%)', 'Pressure(in)', 'Visibility(mi)', 'Wind_Direction', 'Wind_Speed(mph)', 'Precipitation(in)', 'Weather_Condition', 'Amenity', 'Bump', 'Crossing', 'Give_Way', 'Junction', 'No_Exit', 'Railway', 'Roundabout', 'Station', 'Stop', 'Traffic_Calming', 'Traffic_Signal', 'Turning_Loop', 'Sunrise_Sunset', 'Civil_Twilight', 'Nautical_Twilight', 'Astronomical_Twilight']\n",
        "\n",
        " Missing values : 11817022\n",
        "\n",
        " Unique values : \n",
        " ID                       2974335\n",
        "Source                         3\n",
        "TMC                           21\n",
        "Severity                       4\n",
        "Start_Time               2743101\n",
        "End_Time                 2761499\n",
        "Start_Lat                1002359\n",
        "Start_Lng                 985099\n",
        "End_Lat                   298605\n",
        "End_Lng                   302906\n",
        "Distance(mi)               12847\n",
        "Description              1597506\n",
        "Number                     37398\n",
        "Street                    160715\n",
        "Side                           3\n",
        "City                       11685\n",
        "County                      1713\n",
        "State                         49\n",
        "Zipcode                   377152\n",
        "Country                        1\n",
        "Timezone                       4\n",
        "Airport_Code                1995\n",
        "Weather_Timestamp         470781\n",
        "Temperature(F)               827\n",
        "Wind_Chill(F)                971\n",
        "Humidity(%)                  100\n",
        "Pressure(in)                 994\n",
        "Visibility(mi)                81\n",
        "Wind_Direction                24\n",
        "Wind_Speed(mph)              147\n",
        "Precipitation(in)            256\n",
        "Weather_Condition            120\n",
        "Amenity                        2\n",
        "Bump                           2\n",
        "Crossing                       2\n",
        "Give_Way                       2\n",
        "Junction                       2\n",
        "No_Exit                        2\n",
        "Railway                        2\n",
        "Roundabout                     2\n",
        "Station                        2\n",
        "Stop                           2\n",
        "Traffic_Calming                2\n",
        "Traffic_Signal                 2\n",
        "Turning_Loop                   1\n",
        "Sunrise_Sunset                 2\n",
        "Civil_Twilight                 2\n",
        "Nautical_Twilight              2\n",
        "Astronomical_Twilight          2\n",
        "dtype: int64**"
      ]
    },
    {
      "cell_type": "markdown",
      "metadata": {
        "id": "A0HeBA-ekR4r",
        "colab_type": "text"
      },
      "source": [
        "*Finding out the columns with categorical values using df.select_dtypes() method*"
      ]
    },
    {
      "cell_type": "code",
      "metadata": {
        "id": "lcBLxosGkVXT",
        "colab_type": "code",
        "colab": {}
      },
      "source": [
        "df.select_dtypes(exclude=['int','float']).columns"
      ],
      "execution_count": 0,
      "outputs": []
    },
    {
      "cell_type": "markdown",
      "metadata": {
        "id": "FvYDIsMbkboK",
        "colab_type": "text"
      },
      "source": [
        "**Index(['ID', 'Source', 'Start_Time', 'End_Time', 'Description', 'Street',\n",
        "       'Side', 'City', 'County', 'State', 'Zipcode', 'Country', 'Timezone',\n",
        "       'Airport_Code', 'Weather_Timestamp', 'Wind_Direction',\n",
        "       'Weather_Condition', 'Amenity', 'Bump', 'Crossing', 'Give_Way',\n",
        "       'Junction', 'No_Exit', 'Railway', 'Roundabout', 'Station', 'Stop',\n",
        "       'Traffic_Calming', 'Traffic_Signal', 'Turning_Loop', 'Sunrise_Sunset',\n",
        "       'Civil_Twilight', 'Nautical_Twilight', 'Astronomical_Twilight'],\n",
        "      dtype='object')**"
      ]
    },
    {
      "cell_type": "markdown",
      "metadata": {
        "id": "VCp9koh-kjQL",
        "colab_type": "text"
      },
      "source": [
        "*Displaying the catogerical values*"
      ]
    },
    {
      "cell_type": "code",
      "metadata": {
        "id": "pQNp4YwoklEz",
        "colab_type": "code",
        "colab": {}
      },
      "source": [
        "print(df['Source'].unique())\n",
        "print(df['Description'].unique())\n",
        "print(df['Timezone'].unique())\n",
        "print(df['Amenity'].unique())\n",
        "print(df['No_Exit'].unique())"
      ],
      "execution_count": 0,
      "outputs": []
    },
    {
      "cell_type": "markdown",
      "metadata": {
        "id": "LBL4AeQHknrE",
        "colab_type": "text"
      },
      "source": [
        "**['MapQuest' 'MapQuest-Bing' 'Bing']\n",
        "['Right lane blocked due to accident on I-70 Eastbound at Exit 41 OH-235 State Route 4.'\n",
        " 'Accident on Brice Rd at Tussing Rd. Expect delays.'\n",
        " 'Accident on OH-32 State Route 32 Westbound at Dela Palma Rd. Expect delays.'\n",
        " ... 'Ramp closed to Bristol St - Road closed due to accident.'\n",
        " 'At Friars Rd - Accident. Center lane blocked.'\n",
        " 'Ramp closed to The City Dr/Exit 14A - Road closed due to accident.']\n",
        "['US/Eastern' 'US/Pacific' nan 'US/Central' 'US/Mountain']\n",
        "[False  True]\n",
        "[False  True]**"
      ]
    },
    {
      "cell_type": "markdown",
      "metadata": {
        "id": "kOseowdUkvMT",
        "colab_type": "text"
      },
      "source": [
        "*Finding the correlations in the data*"
      ]
    },
    {
      "cell_type": "code",
      "metadata": {
        "id": "vlFU8Po7kxrD",
        "colab_type": "code",
        "colab": {}
      },
      "source": [
        "#first lets print some columns\n",
        "df.columns"
      ],
      "execution_count": 0,
      "outputs": []
    },
    {
      "cell_type": "markdown",
      "metadata": {
        "id": "LAyVbwe6k2xz",
        "colab_type": "text"
      },
      "source": [
        "**Index(['ID', 'Source', 'TMC', 'Severity', 'Start_Time', 'End_Time',\n",
        "       'Start_Lat', 'Start_Lng', 'End_Lat', 'End_Lng', 'Distance(mi)',\n",
        "       'Description', 'Number', 'Street', 'Side', 'City', 'County', 'State',\n",
        "       'Zipcode', 'Country', 'Timezone', 'Airport_Code', 'Weather_Timestamp',\n",
        "       'Temperature(F)', 'Wind_Chill(F)', 'Humidity(%)', 'Pressure(in)',\n",
        "       'Visibility(mi)', 'Wind_Direction', 'Wind_Speed(mph)',\n",
        "       'Precipitation(in)', 'Weather_Condition', 'Amenity', 'Bump', 'Crossing',\n",
        "       'Give_Way', 'Junction', 'No_Exit', 'Railway', 'Roundabout', 'Station',\n",
        "       'Stop', 'Traffic_Calming', 'Traffic_Signal', 'Turning_Loop',\n",
        "       'Sunrise_Sunset', 'Civil_Twilight', 'Nautical_Twilight',\n",
        "       'Astronomical_Twilight'],\n",
        "      dtype='object')**"
      ]
    },
    {
      "cell_type": "code",
      "metadata": {
        "id": "Qqd72i-mk43b",
        "colab_type": "code",
        "colab": {}
      },
      "source": [
        "import seaborn as sns\n",
        "import matplotlib.pyplot as plt\n",
        "fig=sns.heatmap(df[['TMC','Severity','Start_Lat','End_Lat','Distance(mi)'\n",
        "                   ,'Temperature(F)','Wind_Chill(F)','Humidity(%)','Pressure(in)','Visibility(mi)'\n",
        "                   ,'Wind_Speed(mph)']].corr(),annot=True,cmap='RdYlGn',linewidths=0.2 ,annot_kws={'size':15})\n",
        "fig=plt.gcf()\n",
        "fig.set_size_inches(18,15)\n",
        "plt.xticks(fontsize=14)\n",
        "plt.yticks(fontsize=14)\n",
        "plt.show()"
      ],
      "execution_count": 0,
      "outputs": []
    },
    {
      "cell_type": "markdown",
      "metadata": {
        "id": "s-fTp5HElA3r",
        "colab_type": "text"
      },
      "source": [
        "![alt text](https://www.kaggleusercontent.com/kf/27264738/eyJhbGciOiJkaXIiLCJlbmMiOiJBMTI4Q0JDLUhTMjU2In0..K-xmO-HbT0uHe3GnesvubA.wxqjdFTRRofLLsu16cj-nPuGkzRv5NYxvIDV0j0c2zQ7kSbFRHRzy7o3Q196S3jNymIgjP0ORkRmR-J4yjvIB8oiyeSoobaeiHT-1BK-I1L2nhtR7V3266Er_zxpprrnQKFWsyRE6gfFFaRerbgkgc5IjsXnYGpU4T2cZZU_tYM.RoirIL4R5aiDmRW8niyGXQ/__results___files/__results___14_0.png)"
      ]
    },
    {
      "cell_type": "markdown",
      "metadata": {
        "id": "pFJ4Of63lLn8",
        "colab_type": "text"
      },
      "source": [
        "*Finding the sources of the data*"
      ]
    },
    {
      "cell_type": "code",
      "metadata": {
        "id": "hpC-dSH-lNjV",
        "colab_type": "code",
        "colab": {}
      },
      "source": [
        "fig ,ax = plt.subplots(1,2,figsize=(18,8))\n",
        "df['Source'].value_counts().plot.pie(explode=[0,0.1,0.1],autopct='%1.1f%%',ax=ax[0],shadow=True)\n",
        "ax[0].set_title('Share of Sources')\n",
        "ax[0].set_ylabel('Count')\n",
        "sns.countplot('Source',data=df,ax=ax[1],order=df['Source'].value_counts().index)\n",
        "ax[1].set_title('Count of Source')\n",
        "plt.show()"
      ],
      "execution_count": 0,
      "outputs": []
    },
    {
      "cell_type": "markdown",
      "metadata": {
        "id": "QoLhzruPlP6q",
        "colab_type": "text"
      },
      "source": [
        "![alt text](https://www.kaggleusercontent.com/kf/27264738/eyJhbGciOiJkaXIiLCJlbmMiOiJBMTI4Q0JDLUhTMjU2In0..K-xmO-HbT0uHe3GnesvubA.wxqjdFTRRofLLsu16cj-nPuGkzRv5NYxvIDV0j0c2zQ7kSbFRHRzy7o3Q196S3jNymIgjP0ORkRmR-J4yjvIB8oiyeSoobaeiHT-1BK-I1L2nhtR7V3266Er_zxpprrnQKFWsyRE6gfFFaRerbgkgc5IjsXnYGpU4T2cZZU_tYM.RoirIL4R5aiDmRW8niyGXQ/__results___files/__results___16_0.png)"
      ]
    },
    {
      "cell_type": "code",
      "metadata": {
        "id": "r7DM_rcnlTtq",
        "colab_type": "code",
        "colab": {}
      },
      "source": [
        "#Severity of the accidents\n",
        "fig ,ax = plt.subplots(1,2,figsize=(18,8))\n",
        "df['Side'].value_counts().plot.pie(explode=[0,0.1,0],autopct='%1.1f%%',ax=ax[0],shadow=True)\n",
        "ax[0].set_title('Side types')\n",
        "ax[0].set_ylabel('Count')\n",
        "sns.countplot('Side',data=df,ax=ax[1],order=df['Side'].value_counts().index)\n",
        "ax[1].set_title('Count of Side')\n",
        "plt.show()"
      ],
      "execution_count": 0,
      "outputs": []
    },
    {
      "cell_type": "markdown",
      "metadata": {
        "id": "RB7tAZXNlbrV",
        "colab_type": "text"
      },
      "source": [
        "![alt text](https://www.kaggleusercontent.com/kf/27264738/eyJhbGciOiJkaXIiLCJlbmMiOiJBMTI4Q0JDLUhTMjU2In0..K-xmO-HbT0uHe3GnesvubA.wxqjdFTRRofLLsu16cj-nPuGkzRv5NYxvIDV0j0c2zQ7kSbFRHRzy7o3Q196S3jNymIgjP0ORkRmR-J4yjvIB8oiyeSoobaeiHT-1BK-I1L2nhtR7V3266Er_zxpprrnQKFWsyRE6gfFFaRerbgkgc5IjsXnYGpU4T2cZZU_tYM.RoirIL4R5aiDmRW8niyGXQ/__results___files/__results___18_0.png)"
      ]
    },
    {
      "cell_type": "markdown",
      "metadata": {
        "id": "Soh0QwxWliBj",
        "colab_type": "text"
      },
      "source": [
        "*As you can see most accidents occur on the right side i.e. drivers side\n",
        "\n",
        "Side There are three things mentioned regarding the side R, L and third one is Blank No idea for that.*"
      ]
    },
    {
      "cell_type": "code",
      "metadata": {
        "id": "0h70WB-KlkTk",
        "colab_type": "code",
        "colab": {}
      },
      "source": [
        "df['Side'].unique()"
      ],
      "execution_count": 0,
      "outputs": []
    },
    {
      "cell_type": "markdown",
      "metadata": {
        "id": "EMkNEHkNlm2k",
        "colab_type": "text"
      },
      "source": [
        "**array(['R', 'L', ' '], dtype=object)**"
      ]
    },
    {
      "cell_type": "markdown",
      "metadata": {
        "id": "Ipj7XcT4lx2o",
        "colab_type": "text"
      },
      "source": [
        "*Accidents in different timezones*"
      ]
    },
    {
      "cell_type": "code",
      "metadata": {
        "id": "7kL0NlqRl32r",
        "colab_type": "code",
        "colab": {}
      },
      "source": [
        "fig ,ax = plt.subplots(1,2,figsize=(18,8))\n",
        "df['Timezone'].value_counts().plot.pie(explode=[0,0,0,0.1],autopct='%1.1f%%',ax=ax[0],shadow=True)\n",
        "ax[0].set_title('Accidents in different timezones')\n",
        "ax[0].set_ylabel('Count')\n",
        "sns.countplot('Timezone',data=df,ax=ax[1],order=df['Timezone'].value_counts().index)\n",
        "ax[1].set_title('Accidents Count Based on Timezone')\n",
        "plt.show()"
      ],
      "execution_count": 0,
      "outputs": []
    },
    {
      "cell_type": "markdown",
      "metadata": {
        "id": "EH52ZJBTl4ru",
        "colab_type": "text"
      },
      "source": [
        "![alt text](https://www.kaggleusercontent.com/kf/27264738/eyJhbGciOiJkaXIiLCJlbmMiOiJBMTI4Q0JDLUhTMjU2In0..K-xmO-HbT0uHe3GnesvubA.wxqjdFTRRofLLsu16cj-nPuGkzRv5NYxvIDV0j0c2zQ7kSbFRHRzy7o3Q196S3jNymIgjP0ORkRmR-J4yjvIB8oiyeSoobaeiHT-1BK-I1L2nhtR7V3266Er_zxpprrnQKFWsyRE6gfFFaRerbgkgc5IjsXnYGpU4T2cZZU_tYM.RoirIL4R5aiDmRW8niyGXQ/__results___files/__results___25_0.png)"
      ]
    },
    {
      "cell_type": "markdown",
      "metadata": {
        "id": "or8M19VKl-xC",
        "colab_type": "text"
      },
      "source": [
        "*Time to clear the traffic*"
      ]
    },
    {
      "cell_type": "code",
      "metadata": {
        "id": "r2Slbszml8Kj",
        "colab_type": "code",
        "colab": {}
      },
      "source": [
        "st = pd.to_datetime(df.Start_Time, format = '%Y-%m-%d %H:%M:%S')\n",
        "end= pd.to_datetime(df.End_Time, format='%Y-%m-%d %H:%M:%S')"
      ],
      "execution_count": 0,
      "outputs": []
    },
    {
      "cell_type": "code",
      "metadata": {
        "id": "sSLkDuHymGR6",
        "colab_type": "code",
        "colab": {}
      },
      "source": [
        "diff = (end-st)\n",
        "top20 = diff.astype('timedelta64[m]').value_counts().nlargest(20)\n",
        "print('top 20 accident durations correspond to {:.1f}% of the data'.format(top20.sum()*100/len(diff)))\n",
        "(top20/top20.sum()).plot.bar(figsize=(8,8))\n",
        "plt.title('Accident Duration [Minutes]')\n",
        "plt.xlabel('Duration [minutes]')\n",
        "plt.ylabel('Fraction')"
      ],
      "execution_count": 0,
      "outputs": []
    },
    {
      "cell_type": "markdown",
      "metadata": {
        "id": "n570gvbvmHRy",
        "colab_type": "text"
      },
      "source": [
        "![alt text](https://www.kaggleusercontent.com/kf/27264738/eyJhbGciOiJkaXIiLCJlbmMiOiJBMTI4Q0JDLUhTMjU2In0..K-xmO-HbT0uHe3GnesvubA.wxqjdFTRRofLLsu16cj-nPuGkzRv5NYxvIDV0j0c2zQ7kSbFRHRzy7o3Q196S3jNymIgjP0ORkRmR-J4yjvIB8oiyeSoobaeiHT-1BK-I1L2nhtR7V3266Er_zxpprrnQKFWsyRE6gfFFaRerbgkgc5IjsXnYGpU4T2cZZU_tYM.RoirIL4R5aiDmRW8niyGXQ/__results___files/__results___28_2.png)"
      ]
    },
    {
      "cell_type": "markdown",
      "metadata": {
        "id": "0wDjlbsKmUGk",
        "colab_type": "text"
      },
      "source": [
        "*Accidents in different states*"
      ]
    },
    {
      "cell_type": "code",
      "metadata": {
        "id": "ZxvhfqTHmLl7",
        "colab_type": "code",
        "colab": {}
      },
      "source": [
        "fig, ax = plt.subplots(1,2,figsize=(15,8))\n",
        "clr = ('blue','forestgreen','gold','red','purple','cadetblue','hotpink','orange','darksalmon','brown')\n",
        "df['State'].value_counts()[0:10].sort_values().plot(kind='barh',color=clr,ax=ax[0])\n",
        "ax[0].set_title('Top 10 Accident Prone States',size=20)\n",
        "ax[0].set_xlabel('States', size=18)\n",
        "\n",
        "count = df['State'].value_counts()\n",
        "groups=list(df['State'].value_counts().index)[:10]\n",
        "counts=list(count[:10])\n",
        "counts.append(count.agg(sum)-count[:10].agg('sum'))\n",
        "\n",
        "groups.append('Other')\n",
        "type_dict=pd.DataFrame({'group':groups , 'counts':counts})\n",
        "clr1=('brown','darksalmon','orange','hotpink','cadetblue','purple','red','gold','forestgreen','blue','plum')\n",
        "qx=type_dict.plot(kind='pie',y='counts',labels=groups,colors=clr1,autopct='%1.1f%%'\n",
        "                 , pctdistance=0.9,radius=1.2,ax=ax[1])\n",
        "plt.legend(loc=0 , bbox_to_anchor=(1.15,0.4))\n",
        "plt.subplots_adjust(wspace = 0.6 ,hspace=0)\n",
        "plt.ioff()\n",
        "plt.ylabel( '')\n"
      ],
      "execution_count": 0,
      "outputs": []
    },
    {
      "cell_type": "markdown",
      "metadata": {
        "id": "c66_FOkenkDm",
        "colab_type": "text"
      },
      "source": [
        "*State specific analysis*"
      ]
    },
    {
      "cell_type": "code",
      "metadata": {
        "id": "ZyK1v84Annq8",
        "colab_type": "code",
        "colab": {}
      },
      "source": [
        "df_top_Severity_State = df.groupby('State').agg({'Severity':'mean'}).sort_values('Severity').reset_index()\n",
        "plt.figure(figsize=(12,6))\n",
        "sns.barplot(y='Severity', x='State',data=df_top_Severity_State.head(10))\n",
        "plt.ioff()"
      ],
      "execution_count": 0,
      "outputs": []
    },
    {
      "cell_type": "markdown",
      "metadata": {
        "id": "4FLcQ4Henyvv",
        "colab_type": "text"
      },
      "source": [
        "![alt text](https://www.kaggleusercontent.com/kf/27264738/eyJhbGciOiJkaXIiLCJlbmMiOiJBMTI4Q0JDLUhTMjU2In0..iHGv4HHbRxnU7GuSD2KlBg.EAwXMm6q1a1OX7KvnGPbF2XIuEQF6VduP8LOhUGqWWYp9QMhIsaYJfk5htHQo1_QACdIn9KaS8qlZtheZodcn_08dhSFDt0emp1lN76ibhH2Q2K5Oj10_Bnt2o-A3Qu1MIjdS-FQPZI25dWusg7T0L6dEzK0Ee5TGnMQpKV-dwI.9RBUNlbf6Fzu8U9kgPQQ7g/__results___files/__results___33_0.png)"
      ]
    },
    {
      "cell_type": "markdown",
      "metadata": {
        "id": "TNBG8lBEoDqj",
        "colab_type": "text"
      },
      "source": [
        "*Looking at the weather*"
      ]
    },
    {
      "cell_type": "code",
      "metadata": {
        "id": "ZQnw7RR6oIRw",
        "colab_type": "code",
        "colab": {}
      },
      "source": [
        "plt.figure(figsize=(14,8))\n",
        "df.groupby('Weather_Condition')  \\\n",
        "    .size()\\\n",
        "    .sort_values(ascending =False) \\\n",
        "    .iloc[:5] \\\n",
        "    .plot.pie(explode=[0,0,0.1,0,0],autopct='%1.1f%%',shadow=True)\n",
        "plt.ioff()"
      ],
      "execution_count": 0,
      "outputs": []
    },
    {
      "cell_type": "markdown",
      "metadata": {
        "id": "xKptgFD5oKGs",
        "colab_type": "text"
      },
      "source": [
        "![alt text](https://www.kaggleusercontent.com/kf/27264738/eyJhbGciOiJkaXIiLCJlbmMiOiJBMTI4Q0JDLUhTMjU2In0..iHGv4HHbRxnU7GuSD2KlBg.EAwXMm6q1a1OX7KvnGPbF2XIuEQF6VduP8LOhUGqWWYp9QMhIsaYJfk5htHQo1_QACdIn9KaS8qlZtheZodcn_08dhSFDt0emp1lN76ibhH2Q2K5Oj10_Bnt2o-A3Qu1MIjdS-FQPZI25dWusg7T0L6dEzK0Ee5TGnMQpKV-dwI.9RBUNlbf6Fzu8U9kgPQQ7g/__results___files/__results___35_0.png)"
      ]
    },
    {
      "cell_type": "markdown",
      "metadata": {
        "id": "_CsBdhM1odf9",
        "colab_type": "text"
      },
      "source": [
        "*Top weather for accidents*"
      ]
    },
    {
      "cell_type": "code",
      "metadata": {
        "id": "0Upr1RgiobHV",
        "colab_type": "code",
        "colab": {}
      },
      "source": [
        "fig ,ax =plt.subplots(figsize=(16,7))\n",
        "df['Weather_Condition'].value_counts().sort_values(ascending=False).head(5).plot.bar(width=0.5,edgecolor='k',align='center',linewidth=2)\n",
        "plt.xlabel('Weather_Condition',fontsize=20)\n",
        "plt.ylabel('Number of Accidents',fontsize=20)\n",
        "ax.tick_params(labelsize=20)\n",
        "plt.title('5 Top weather conditions for accidents ',fontsize=25)\n",
        "plt.grid()\n",
        "plt.ioff()"
      ],
      "execution_count": 0,
      "outputs": []
    },
    {
      "cell_type": "markdown",
      "metadata": {
        "id": "CxJSc9TeokjS",
        "colab_type": "text"
      },
      "source": [
        "![alt text](https://www.kaggleusercontent.com/kf/27264738/eyJhbGciOiJkaXIiLCJlbmMiOiJBMTI4Q0JDLUhTMjU2In0..iHGv4HHbRxnU7GuSD2KlBg.EAwXMm6q1a1OX7KvnGPbF2XIuEQF6VduP8LOhUGqWWYp9QMhIsaYJfk5htHQo1_QACdIn9KaS8qlZtheZodcn_08dhSFDt0emp1lN76ibhH2Q2K5Oj10_Bnt2o-A3Qu1MIjdS-FQPZI25dWusg7T0L6dEzK0Ee5TGnMQpKV-dwI.9RBUNlbf6Fzu8U9kgPQQ7g/__results___files/__results___37_0.png)"
      ]
    },
    {
      "cell_type": "markdown",
      "metadata": {
        "id": "bNVdr1UYoolL",
        "colab_type": "text"
      },
      "source": [
        "*It says that people drive more carefully when the weather is bad and most accidents occur in the clear weather due to carelessness*"
      ]
    },
    {
      "cell_type": "code",
      "metadata": {
        "id": "do0aVFp9onv7",
        "colab_type": "code",
        "colab": {}
      },
      "source": [
        "bool_cols=[col for col in df.columns if df[col].dtype == np.dtype('bool')]\n",
        "booldf=df[bool_cols]\n",
        "not_one_hot=booldf[booldf.sum(axis=1) > 1]\n",
        "print('There are {} non one hot metadata rows , which are {:.1f}% of the data'.format(len(not_one_hot),100*len(not_one_hot)/len(df)))\n",
        "bools = booldf.sum(axis=0)\n",
        "bools"
      ],
      "execution_count": 0,
      "outputs": []
    },
    {
      "cell_type": "markdown",
      "metadata": {
        "id": "1SPesSE8oyG9",
        "colab_type": "text"
      },
      "source": [
        "**There are 217913 non one hot metadata rows , which are 7.3% of the data**"
      ]
    },
    {
      "cell_type": "markdown",
      "metadata": {
        "id": "NgOnff9eo8vr",
        "colab_type": "text"
      },
      "source": [
        "**Amenity             35220\n",
        "Bump                  454\n",
        "Crossing           207590\n",
        "Give_Way             7627\n",
        "Junction           238447\n",
        "No_Exit              3395\n",
        "Railway             25161\n",
        "Roundabout            168\n",
        "Station             56413\n",
        "Stop                40160\n",
        "Traffic_Calming      1111\n",
        "Traffic_Signal     503383\n",
        "Turning_Loop            0\n",
        "dtype: int64**"
      ]
    },
    {
      "cell_type": "code",
      "metadata": {
        "id": "jHOeSg8Uou67",
        "colab_type": "code",
        "colab": {}
      },
      "source": [
        "bools.plot.pie(autopct='%1.1f%%',shadow=True,figsize=(10,10))\n",
        "plt.ylabel(\" \")\n",
        "plt.title('Proximity to the Traffic Object')\n"
      ],
      "execution_count": 0,
      "outputs": []
    },
    {
      "cell_type": "markdown",
      "metadata": {
        "id": "etooODuPpGl7",
        "colab_type": "text"
      },
      "source": [
        "![alt text](https://www.kaggleusercontent.com/kf/27264738/eyJhbGciOiJkaXIiLCJlbmMiOiJBMTI4Q0JDLUhTMjU2In0..iHGv4HHbRxnU7GuSD2KlBg.EAwXMm6q1a1OX7KvnGPbF2XIuEQF6VduP8LOhUGqWWYp9QMhIsaYJfk5htHQo1_QACdIn9KaS8qlZtheZodcn_08dhSFDt0emp1lN76ibhH2Q2K5Oj10_Bnt2o-A3Qu1MIjdS-FQPZI25dWusg7T0L6dEzK0Ee5TGnMQpKV-dwI.9RBUNlbf6Fzu8U9kgPQQ7g/__results___files/__results___42_1.png)"
      ]
    },
    {
      "cell_type": "markdown",
      "metadata": {
        "id": "TmItl2aVpL6p",
        "colab_type": "text"
      },
      "source": [
        "*As one can see that most accidents occur near traffic signal, junction and crossings*"
      ]
    },
    {
      "cell_type": "code",
      "metadata": {
        "id": "rg3y71wApJYB",
        "colab_type": "code",
        "colab": {}
      },
      "source": [
        "df['time'] = pd.to_datetime(df.Start_Time , format = '%Y-%m-%d %H:%M:%S')\n",
        "df= df.set_index('time')\n",
        "df.head()"
      ],
      "execution_count": 0,
      "outputs": []
    },
    {
      "cell_type": "markdown",
      "metadata": {
        "id": "mrWUQW3XpRWH",
        "colab_type": "text"
      },
      "source": [
        "\tID\tSource\tTMC\tSeverity\tStart_Time\tEnd_Time\tStart_Lat\tStart_Lng\tEnd_Lat\tEnd_Lng\t...\tRoundabout\tStation\tStop\tTraffic_Calming\tTraffic_Signal\tTurning_Loop\tSunrise_Sunset\tCivil_Twilight\tNautical_Twilight\tAstronomical_Twilight\n",
        "time\t\t\t\t\t\t\t\t\t\t\t\t\t\t\t\t\t\t\t\t\t\n",
        "2016-02-08 05:46:00\tA-1\tMapQuest\t201.0\t3\t2016-02-08 05:46:00\t2016-02-08 11:00:00\t39.865147\t-84.058723\tNaN\tNaN\t...\tFalse\tFalse\tFalse\tFalse\tFalse\tFalse\tNight\tNight\tNight\tNight\n",
        "2016-02-08 06:07:59\tA-2\tMapQuest\t201.0\t2\t2016-02-08 06:07:59\t2016-02-08 06:37:59\t39.928059\t-82.831184\tNaN\tNaN\t...\tFalse\tFalse\tFalse\tFalse\tFalse\tFalse\tNight\tNight\tNight\tDay\n",
        "2016-02-08 06:49:27\tA-3\tMapQuest\t201.0\t2\t2016-02-08 06:49:27\t2016-02-08 07:19:27\t39.063148\t-84.032608\tNaN\tNaN\t...\tFalse\tFalse\tFalse\tFalse\tTrue\tFalse\tNight\tNight\tDay\tDay\n",
        "2016-02-08 07:23:34\tA-4\tMapQuest\t201.0\t3\t2016-02-08 07:23:34\t2016-02-08 07:53:34\t39.747753\t-84.205582\tNaN\tNaN\t...\tFalse\tFalse\tFalse\tFalse\tFalse\tFalse\tNight\tDay\tDay\tDay\n",
        "2016-02-08 07:39:07\tA-5\tMapQuest\t201.0\t2\t2016-02-08 07:39:07\t2016-02-08 08:09:07\t39.627781\t-84.188354\tNaN\tNaN\t...\tFalse\tFalse\tFalse\tFalse\tTrue\tFalse\tDay\tDay\tDay\tDay\n",
        "\n"
      ]
    },
    {
      "cell_type": "markdown",
      "metadata": {
        "id": "q7faM_XzprGj",
        "colab_type": "text"
      },
      "source": [
        "**The above data will show properly in a notebook**"
      ]
    },
    {
      "cell_type": "code",
      "metadata": {
        "id": "PLGFwzgbp13L",
        "colab_type": "code",
        "colab": {}
      },
      "source": [
        "freq_text = {'D':'Daily','W':'Weekly','Y':'Yearly'}\n",
        "plt.subplots(1,3,figsize=(21,7))\n",
        "for i, (fr,text) in enumerate(freq_text.items(),1):\n",
        "    plt.subplot(1,3,i)\n",
        "    sample = df.ID['2016':].resample(fr).count()\n",
        "    sample.plot(style='.')\n",
        "    plt.title('Accidents, {} count'.format(text))\n",
        "    plt.xlabel('Date')\n",
        "    plt.ylabel('Accident Count');"
      ],
      "execution_count": 0,
      "outputs": []
    },
    {
      "cell_type": "markdown",
      "metadata": {
        "id": "re5VjTf7p7lz",
        "colab_type": "text"
      },
      "source": [
        "![alt text](https://www.kaggleusercontent.com/kf/27264738/eyJhbGciOiJkaXIiLCJlbmMiOiJBMTI4Q0JDLUhTMjU2In0..iHGv4HHbRxnU7GuSD2KlBg.EAwXMm6q1a1OX7KvnGPbF2XIuEQF6VduP8LOhUGqWWYp9QMhIsaYJfk5htHQo1_QACdIn9KaS8qlZtheZodcn_08dhSFDt0emp1lN76ibhH2Q2K5Oj10_Bnt2o-A3Qu1MIjdS-FQPZI25dWusg7T0L6dEzK0Ee5TGnMQpKV-dwI.9RBUNlbf6Fzu8U9kgPQQ7g/__results___files/__results___45_0.png)"
      ]
    },
    {
      "cell_type": "code",
      "metadata": {
        "id": "EEI5pOByp-Lt",
        "colab_type": "code",
        "colab": {}
      },
      "source": [
        "df['Start_Time'] = pd.to_datetime(df['Start_Time'], format=\"%Y/%m/%d %H:%M:%S\")\n",
        "df['DayOfWeekNum'] = df['Start_Time'].dt.dayofweek\n",
        "df['DayOfWeek'] = df['Start_Time'].dt.weekday_name\n",
        "df['MonthDayNum'] = df['Start_Time'].dt.day\n",
        "df['HourOfDay'] = df['Start_Time'].dt.hour\n",
        "fig, ax=plt.subplots(figsize=(16,7))\n",
        "df['DayOfWeek'].value_counts(ascending=False).plot.bar(width=0.5,edgecolor='k',align='center',linewidth=2)\n",
        "plt.xlabel('Day of the Week',fontsize=20)\n",
        "plt.ylabel('Number of accidents',fontsize=20)\n",
        "ax.tick_params(labelsize=20)\n",
        "plt.title('Accident on Different Days of Week',fontsize=25)\n",
        "plt.grid()\n",
        "plt.ioff()"
      ],
      "execution_count": 0,
      "outputs": []
    },
    {
      "cell_type": "markdown",
      "metadata": {
        "id": "MYfywIesqBGO",
        "colab_type": "text"
      },
      "source": [
        "![alt text](https://www.kaggleusercontent.com/kf/27264738/eyJhbGciOiJkaXIiLCJlbmMiOiJBMTI4Q0JDLUhTMjU2In0..iHGv4HHbRxnU7GuSD2KlBg.EAwXMm6q1a1OX7KvnGPbF2XIuEQF6VduP8LOhUGqWWYp9QMhIsaYJfk5htHQo1_QACdIn9KaS8qlZtheZodcn_08dhSFDt0emp1lN76ibhH2Q2K5Oj10_Bnt2o-A3Qu1MIjdS-FQPZI25dWusg7T0L6dEzK0Ee5TGnMQpKV-dwI.9RBUNlbf6Fzu8U9kgPQQ7g/__results___files/__results___46_0.png)"
      ]
    },
    {
      "cell_type": "markdown",
      "metadata": {
        "id": "Yfg62sYzqHnl",
        "colab_type": "text"
      },
      "source": [
        "*Most common keywords used in the description of the accidents**"
      ]
    },
    {
      "cell_type": "code",
      "metadata": {
        "id": "39Pi_GjAqFjM",
        "colab_type": "code",
        "colab": {}
      },
      "source": [
        "from wordcloud import WordCloud\n",
        "plt.style.use('seaborn')\n",
        "wrds1 = df['Description'].str.split(\"(\").str[0].value_counts().keys()\n",
        "wc1=WordCloud(scale=5 , max_words=1000,colormap='rainbow',background_color='black').generate(\" \".join(wrds1))\n",
        "plt.figure(figsize=(20,14))\n",
        "plt.imshow(wc1 , interpolation='bilinear')\n",
        "plt.axis('off')\n",
        "plt.title('Key words in Accident Description', color='b')\n",
        "plt.show()"
      ],
      "execution_count": 0,
      "outputs": []
    },
    {
      "cell_type": "markdown",
      "metadata": {
        "id": "1D9ITh3UqXg2",
        "colab_type": "text"
      },
      "source": [
        "![alt text](https://www.kaggleusercontent.com/kf/27264738/eyJhbGciOiJkaXIiLCJlbmMiOiJBMTI4Q0JDLUhTMjU2In0..iHGv4HHbRxnU7GuSD2KlBg.EAwXMm6q1a1OX7KvnGPbF2XIuEQF6VduP8LOhUGqWWYp9QMhIsaYJfk5htHQo1_QACdIn9KaS8qlZtheZodcn_08dhSFDt0emp1lN76ibhH2Q2K5Oj10_Bnt2o-A3Qu1MIjdS-FQPZI25dWusg7T0L6dEzK0Ee5TGnMQpKV-dwI.9RBUNlbf6Fzu8U9kgPQQ7g/__results___files/__results___48_0.png)"
      ]
    },
    {
      "cell_type": "code",
      "metadata": {
        "id": "yE3ltnpiqaIj",
        "colab_type": "code",
        "colab": {}
      },
      "source": [
        "sns.factorplot('State', 'Severity',data=df)\n",
        "fig=plt.gcf()\n",
        "fig.set_size_inches(20,7)\n",
        "plt.show()\n",
        "plt.figure(figsize=(14,8))\n",
        "sub_6=df[df.Severity<5]\n",
        "viz_4=sub_6.plot(kind='scatter', x='Start_Lng',y='Start_Lat',label='Severity',c='Severity',cmap=plt.get_cmap('jet'),colorbar=True,alpha=0.4,figsize=(10,10))\n",
        "viz_4.legend()\n",
        "plt.ioff()"
      ],
      "execution_count": 0,
      "outputs": []
    },
    {
      "cell_type": "markdown",
      "metadata": {
        "id": "Nkx8pyWsqiDu",
        "colab_type": "text"
      },
      "source": [
        "![alt text](https://www.kaggleusercontent.com/kf/27264738/eyJhbGciOiJkaXIiLCJlbmMiOiJBMTI4Q0JDLUhTMjU2In0..iHGv4HHbRxnU7GuSD2KlBg.EAwXMm6q1a1OX7KvnGPbF2XIuEQF6VduP8LOhUGqWWYp9QMhIsaYJfk5htHQo1_QACdIn9KaS8qlZtheZodcn_08dhSFDt0emp1lN76ibhH2Q2K5Oj10_Bnt2o-A3Qu1MIjdS-FQPZI25dWusg7T0L6dEzK0Ee5TGnMQpKV-dwI.9RBUNlbf6Fzu8U9kgPQQ7g/__results___files/__results___50_1.png)"
      ]
    },
    {
      "cell_type": "markdown",
      "metadata": {
        "id": "l-QxwR5rqj1k",
        "colab_type": "text"
      },
      "source": [
        "![alt text](https://www.kaggleusercontent.com/kf/27264738/eyJhbGciOiJkaXIiLCJlbmMiOiJBMTI4Q0JDLUhTMjU2In0..iHGv4HHbRxnU7GuSD2KlBg.EAwXMm6q1a1OX7KvnGPbF2XIuEQF6VduP8LOhUGqWWYp9QMhIsaYJfk5htHQo1_QACdIn9KaS8qlZtheZodcn_08dhSFDt0emp1lN76ibhH2Q2K5Oj10_Bnt2o-A3Qu1MIjdS-FQPZI25dWusg7T0L6dEzK0Ee5TGnMQpKV-dwI.9RBUNlbf6Fzu8U9kgPQQ7g/__results___files/__results___51_1.png)"
      ]
    },
    {
      "cell_type": "markdown",
      "metadata": {
        "id": "IMobNChFqpHc",
        "colab_type": "text"
      },
      "source": [
        "**Try running all the codes in your notebook since this is a kaggle kernel so you need to download the data or use kaggle notebook for your analysis, since the data is more than 2GB so try running it on colab as CPUs of laptops will take a lot of time also there is a chance of crashing the system**\n",
        "The link to the kaggle dataset is\n",
        ":\"https://www.kaggle.com/sobhanmoosavi/us-accidents\"\n",
        "You can find more details on kaggle trying doing it youself, Thanks! :)\n",
        "for going throw this project for any suggestion or improvement feel free to comment! Thanks again !"
      ]
    },
    {
      "cell_type": "markdown",
      "metadata": {
        "id": "kqK2DTIKpjgp",
        "colab_type": "text"
      },
      "source": [
        ""
      ]
    }
  ]
}